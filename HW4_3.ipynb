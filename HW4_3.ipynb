{
 "cells": [
  {
   "cell_type": "code",
   "execution_count": 3,
   "metadata": {},
   "outputs": [],
   "source": [
    "import pandas as pd"
   ]
  },
  {
   "cell_type": "code",
   "execution_count": 4,
   "metadata": {},
   "outputs": [
    {
     "name": "stdout",
     "output_type": "stream",
     "text": [
      "It works!\n"
     ]
    }
   ],
   "source": [
    "from typing import List\n",
    "\n",
    "def get_windows(seq:str, window_size: int, step_size: int) -> List[str]:\n",
    "    split_strings: List[str] = []\n",
    "    seq_len: int = len(seq)\n",
    "    index: int = 0\n",
    "\n",
    "    while index < len(seq):\n",
    "        sub_seq: str = seq[index:index + window_size]\n",
    "        if len(sub_seq) == window_size:\n",
    "            split_strings.append(sub_seq)\n",
    "        index += step_size\n",
    "\n",
    "    return split_strings\n",
    "\n",
    "assert get_windows(\"ATATGCGATGGACG\", 3, 4) == [\"ATA\", \"GCG\", \"TGG\"], \"Error on test 1!\"\n",
    "assert get_windows(\"ATGCG\", 3, 1) == [\"ATG\", \"TGC\", \"GCG\"], \"Error on test 2!\"\n",
    "assert get_windows(\"ATGG\", 2, 2) == [\"AT\", \"GG\"], \"Error on test 3!\"\n",
    "assert get_windows(\"ATG\", 1, 1) == [\"A\", \"T\", \"G\"], \"Error on test 4!\"\n",
    "\n",
    "print(\"It works!\")\n"
   ]
  },
  {
   "cell_type": "code",
   "execution_count": null,
   "metadata": {},
   "outputs": [],
   "source": []
  }
 ],
 "metadata": {
  "kernelspec": {
   "display_name": "Python 3",
   "language": "python",
   "name": "python3"
  },
  "language_info": {
   "codemirror_mode": {
    "name": "ipython",
    "version": 3
   },
   "file_extension": ".py",
   "mimetype": "text/x-python",
   "name": "python",
   "nbconvert_exporter": "python",
   "pygments_lexer": "ipython3",
   "version": "3.8.5"
  }
 },
 "nbformat": 4,
 "nbformat_minor": 4
}
