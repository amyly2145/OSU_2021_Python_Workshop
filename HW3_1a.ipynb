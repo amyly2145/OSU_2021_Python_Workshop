{
 "cells": [
  {
   "cell_type": "code",
   "execution_count": 3,
   "metadata": {},
   "outputs": [],
   "source": [
    "from typing import IO, List"
   ]
  },
  {
   "cell_type": "code",
   "execution_count": 4,
   "metadata": {},
   "outputs": [],
   "source": [
    "sum: float = 0.0\n",
    "cov_handle: IO\n",
    "nums: List[float] = []"
   ]
  },
  {
   "cell_type": "code",
   "execution_count": 11,
   "metadata": {},
   "outputs": [],
   "source": [
    "with open (\"ids_covs_sample.txt\", \"r\") as cov_handle:\n",
    "\n",
    "    for line in cov_handle:\n",
    "        line_stripped: str = line.strip()\n",
    "        line_list: List[str] = line_stripped.replace(\"nReads=\", \"\").split()\n",
    "        num: float = float(line_list[1])\n",
    "        nums.append(num)\n",
    "\n",
    "cov_handle.close()"
   ]
  },
  {
   "cell_type": "code",
   "execution_count": 12,
   "metadata": {},
   "outputs": [
    {
     "name": "stdout",
     "output_type": "stream",
     "text": [
      "Sum is: 88.0\n"
     ]
    }
   ],
   "source": [
    "for x in nums:\n",
    "    sum = sum + x\n",
    "print(\"Sum is: \" + str(sum))"
   ]
  }
 ],
 "metadata": {
  "kernelspec": {
   "display_name": "Python 3",
   "language": "python",
   "name": "python3"
  },
  "language_info": {
   "codemirror_mode": {
    "name": "ipython",
    "version": 3
   },
   "file_extension": ".py",
   "mimetype": "text/x-python",
   "name": "python",
   "nbconvert_exporter": "python",
   "pygments_lexer": "ipython3",
   "version": "3.8.5"
  }
 },
 "nbformat": 4,
 "nbformat_minor": 4
}
