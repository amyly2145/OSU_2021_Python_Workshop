{
 "cells": [
  {
   "cell_type": "code",
   "execution_count": 24,
   "metadata": {},
   "outputs": [],
   "source": [
    "from typing import List\n",
    "import random\n",
    "\n",
    "class Bug:\n",
    "    def __init__(self, id: int, genome: List[str]) -> None:\n",
    "        self.id: int = id\n",
    "        self.genome: List[str] = genome\n",
    "\n",
    "    def get_id(self) -> int:\n",
    "        return self.id\n",
    "\n",
    "    def base_composition(self, base:str) -> int:\n",
    "        counter: int = 0\n",
    "\n",
    "        index: int\n",
    "        for index in range(0, len(self.genome)):\n",
    "            genome_base: str = self.genome[index]\n",
    "            if base == genome_base:\n",
    "                counter = counter +1\n",
    "\n",
    "        return counter\n",
    "    def fitness(self) -> int:\n",
    "        countg: int = self.base_composition(\"G\")\n",
    "        countc: int = self.base_composition(\"C\")\n",
    "        countt: int = self.base_composition(\"T\")\n",
    "\n",
    "        gct: int = 2*countg + 2*countc + 3*countt\n",
    "        return gct\n",
    "\n",
    "    def reproduce(self, mutation_prob: float) -> 'Bug':\n",
    "        assert mutation_prob >= 0 and mutation_prob <=1, \"Bug reproduce error: mutation_prob not between 0 and 1\"\n",
    "        new_genome: List[str] = []\n",
    "        bases: List[str] = [\"A\", \"C\", \"G\", \"T\"]\n",
    "\n",
    "        for index in range(0, len(self.genome)):\n",
    "            if random.uniform(0,1) < mutation_prob:\n",
    "                rand_el: str = random.choice(bases)\n",
    "                new_genome.append(rand_el)\n",
    "            else:\n",
    "                new_genome.append(self.genome[index])\n",
    "\n",
    "        new_id: int = random.randint(0,1000000)\n",
    "        offspring: Bug = Bug(new_id, new_genome)\n",
    "        return offspring\n"
   ]
  },
  {
   "cell_type": "code",
   "execution_count": 26,
   "metadata": {},
   "outputs": [
    {
     "name": "stdout",
     "output_type": "stream",
     "text": [
      "tests completed successfully!\n"
     ]
    }
   ],
   "source": [
    "from typing import List\n",
    "\n",
    "def test_bug() -> None:\n",
    "    bugA: Bug = Bug(12, [\"C\", \"A\", \"C\", \"T\", \"T\"]) # Bug with id 12, genome CACGT\n",
    "    counta: int = bugA.base_composition(\"A\")\n",
    "    countc: int = bugA.base_composition(\"C\")\n",
    "    countg: int = bugA.base_composition(\"G\")\n",
    "\n",
    "    assert counta == 1, \"Error on test 1\"\n",
    "    assert countc == 2, \"Error on test 2\"\n",
    "    assert countg == 0, \"Error on test 3\"\n",
    "\n",
    "    assert bugA.get_id() == 12, \"Error on test 4\"\n",
    "\n",
    "test_bug()\n",
    "print(\"tests completed successfully!\")"
   ]
  }
 ],
 "metadata": {
  "kernelspec": {
   "display_name": "Python 3",
   "language": "python",
   "name": "python3"
  },
  "language_info": {
   "codemirror_mode": {
    "name": "ipython",
    "version": 3
   },
   "file_extension": ".py",
   "mimetype": "text/x-python",
   "name": "python",
   "nbconvert_exporter": "python",
   "pygments_lexer": "ipython3",
   "version": "3.8.5"
  },
  "vscode": {
   "interpreter": {
    "hash": "df72922c549b4e52cd2a09953f71da0c2ca16e32e691b380bba2f0a4a6f964d1"
   }
  }
 },
 "nbformat": 4,
 "nbformat_minor": 4
}
