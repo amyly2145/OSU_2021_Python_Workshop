{
 "cells": [
  {
   "cell_type": "code",
   "execution_count": 2,
   "metadata": {},
   "outputs": [
    {
     "name": "stdout",
     "output_type": "stream",
     "text": [
      "A succulent requires 0.25 bags of soil for repotting.\n",
      "A spider plant requires 0.75 bags of soil for repotting.\n",
      "A maple tree requires 2 bags of soil for repotting.\n",
      "A money tree requires 1 bags of soil for repotting.\n"
     ]
    }
   ],
   "source": [
    "class Plant:\n",
    "    def __init__(self, name: str, container: str, days_water: int) -> None:\n",
    "        self.name: str = name\n",
    "        self.container: str = container\n",
    "        self.water: int = days_water\n",
    "\n",
    "    def is_size(self):\n",
    "        size: str = \"unknown\"\n",
    "\n",
    "        if self.container == \"pot\":\n",
    "            size = \"small\"\n",
    "        elif self.container == \"hanging basket\":\n",
    "            size = \"medium\"\n",
    "        elif self.container == \"big pot\":\n",
    "            size = \"large\"\n",
    "        elif self.container == \"ground\":\n",
    "            size = \"very large\"\n",
    "        return size\n",
    "\n",
    "    def is_schedule(self):\n",
    "        time: str = \"when needed\"\n",
    "\n",
    "        if self.water == 1:\n",
    "            time = \"every day\"\n",
    "        elif self.water > 1 and self.water <=7:\n",
    "            time = \"every week\"\n",
    "        elif self.water >7 and self.water <=28:\n",
    "            time = \"approximately biweekly\"\n",
    "        elif self.water > 28:\n",
    "            time = \"every month\"\n",
    "        return time\n",
    "\n",
    "    def soil(self):\n",
    "        amount: float = 0\n",
    "        if self.is_size() == \"small\":\n",
    "            amount = 0.25\n",
    "        elif self.is_size() == \"medium\":\n",
    "            amount = 0.75\n",
    "        elif self.is_size() == \"large\":\n",
    "            amount = 1\n",
    "        elif self.is_size() == \"very large\":\n",
    "            amount = 2\n",
    "        return amount\n",
    "\n",
    "plants = []\n",
    "\n",
    "succulent: Plant = Plant(\"succulent\", \"pot\", 30)\n",
    "plants.append(succulent)\n",
    "\n",
    "plants.append(Plant(\"spider plant\", \"hanging basket\", 14))\n",
    "plants.append(Plant(\"maple tree\", \"ground\", 7))\n",
    "plants.append(Plant(\"money tree\", \"big pot\", 5))\n",
    "\n",
    "for plant in plants:\n",
    "    name = plant.name\n",
    "    soil = plant.soil()\n",
    "    print(\"A \" + name + \" requires \" + str(soil) + \" bags of soil for repotting.\")\n"
   ]
  }
 ],
 "metadata": {
  "kernelspec": {
   "display_name": "Python 3",
   "language": "python",
   "name": "python3"
  },
  "language_info": {
   "codemirror_mode": {
    "name": "ipython",
    "version": 3
   },
   "file_extension": ".py",
   "mimetype": "text/x-python",
   "name": "python",
   "nbconvert_exporter": "python",
   "pygments_lexer": "ipython3",
   "version": "3.8.5"
  }
 },
 "nbformat": 4,
 "nbformat_minor": 4
}
