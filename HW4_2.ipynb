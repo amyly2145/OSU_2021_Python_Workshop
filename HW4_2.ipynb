{
 "cells": [
  {
   "cell_type": "code",
   "execution_count": 1,
   "metadata": {},
   "outputs": [],
   "source": [
    "import pandas as pd"
   ]
  },
  {
   "cell_type": "code",
   "execution_count": 2,
   "metadata": {
    "scrolled": true
   },
   "outputs": [
    {
     "name": "stdout",
     "output_type": "stream",
     "text": [
      "    Seq ID                                                Seq\n",
      "0        1  GATTTCAAAAGCATTCTGTTGTTCTTTGAGGTCAGCAACCTGACCA...\n",
      "1        2  TACGCTTGACAAGACGTCTCCATGTCCTTTCAAGCGACTTGCTACG...\n",
      "2        3  AAAATTGGATGCATAAAACAAAATAAATGTAAATACTAAAATAATG...\n",
      "3        4      AAAAAATAAAGTGTTTTAAAATAAAATCATTTAATTATTTTCACC\n",
      "4        5  CAAAGCCATAGCAAAAATTGCATTCTCGAACAACCAAATAAAATCG...\n",
      "5        6  GATGTTAGGAATAGTGGTTAATGGTTGTTGTCCACGTGTATAGCTTTGT\n",
      "6        7  AAGATATTATAATTAAAAAATATTTAATATAATTTTTTTAAAATAT...\n",
      "7        8    AAATTTTGGAAACTTATTAATAAAGGAATGACTCACATATTGTTCTT\n",
      "8        9  GTAGTGGTAAACCGTTGAGGTGGATGTCATGCTGTTGTCGACGGCG...\n",
      "9       10       TTGTATCGCATATTCAACCAAATATAAGATATGATAAGTGATGA\n",
      "10      11  AACCCATTTCTTATCTCTTTCTTTCTTTCTTTCTTTCTTTCTTCTT...\n",
      "11      12  CTTTCCCCTTTTTCTTTTCTGGGTTTCTGTTTATTTGTTTATTTGT...\n",
      "12      13  TATAAATTTTATTTATTTTATATTTTTTATGATAAAATTAAATATA...\n",
      "13      14  TATTTATGGTAAAAATGGGTTGCTCTTCAAGTTAAAAAATGAGAGA...\n",
      "14      15  ATTTGTCTCTATCAATACGTGTATCCATCTGTAAGTTTCTGAATTC...\n",
      "15      16  AGCTATGCAAGGGCATTCTAGGGCTTTCTGAGCTTTAGCGTCAAGG...\n",
      "16      17  TTATTTATTTTTTTCTAAACATTTAGAAAATTCCTAATTTCTAAAA...\n",
      "17      18  CCTACAAATTGCCCTCCATCAAAGACGAGCCAATAATGTTTCATGA...\n",
      "18      19  GCTGGAAATTTACCATTCGGTGTCCAGCGTATTTCCTGTATCGTGC...\n",
      "19      20            TGAACATGTTGGCAACCAATCTCTCCTGTGACATGATTT\n",
      "20      21  ACTTAATATATAAGCAAAATAATATTATTTCACAAGCTATTTCTTG...\n",
      "21      22  ATTAATCAATAAATAAACAAATTATTAATTCATTAATTTTTATTTA...\n",
      "22      23  AAAAAATTATTTTTAGCACAATATTTGAGAAAAAACAATTTTTTTT...\n",
      "23      24                  AATATAATATATAAAAGATATTATAATGTACTA\n",
      "24      25            TATGGCTCAATTCACTAACACGCATACATTGACGGATTT\n",
      "25      26  GTGACTTGATATGACTTGAATATTGTTTAGATAAGTTTATTACATT...\n",
      "26      27                     GATATTTTAAGGAAAATTGAAGATGAAAAG\n",
      "27      28  TTGTTTAAATAGGTTCATTACATTTAGTGTATGTTCAAATTATGCC...\n",
      "28      29            TTTTGAAAACCAAACATAGCATATAAGTTAATTTCATCC\n",
      "29      30  TCACCTACTAATAAAAATGTCTTGCCCACATAAAATCATGTGGAGT...\n",
      "30      31  GTGGATCTCTGCGCGTGCTGCATATGCAGTATTTTCCATGGCCGCC...\n",
      "31      32  ATTTCATTTATTCAAAAACACATTTTCTCATATCCATTAATATCAA...\n",
      "32      33  TGATGTTATCATCAAAATTAGTACATTACAACAAATTTCATATTTT...\n",
      "33      34  TGCGAGAGCACGACCCATGTACTCCCTTATGGCCCCTTCCTCACTC...\n",
      "34      35  TGATTTGAAGAGTGATTCAACTTCAAAAACTCTGCAGGGGTCATCA...\n",
      "35      36  ATTTGATTCAATATTAATTTTTAATAAATTAATAATAAATAATAAA...\n",
      "36      37  TAATTTTTGGTGCTGCAGAATGGCACTATATATGCATGGAAACCCA...\n",
      "37      38  AAGTTTTTTTCATGCTGTAAAAGCTGGCTATAGAGCTGAACTAGTG...\n",
      "38      39  CAATATTTCTGCAAATAAGAGGTTATCTTACAATAAGGACATGGAG...\n",
      "39      40  CCTTACTTTCAAATTGCAGTTTCATGGAAATTAAATAAAAAAAAAA...\n"
     ]
    }
   ],
   "source": [
    "df = pd.read_table(\"seqs_samp.txt\", \n",
    "                   sep='\\s+', \n",
    "                  names = [\"ID\", \"Seq\"])\n",
    "\n",
    "df[\"Seq ID\"]: int = df['ID'].str.split('_').apply(lambda x: int(x[1]))\n",
    "#split the original ID based on where \"_\" is. \n",
    "#Then from the second element, extract only the number and put in a new column. \n",
    "\n",
    "del df[\"ID\"]\n",
    "\n",
    "df = df[['Seq ID', 'Seq']]\n",
    "#reordering the columns\n",
    "\n",
    "print(df)"
   ]
  },
  {
   "cell_type": "code",
   "execution_count": 4,
   "metadata": {},
   "outputs": [],
   "source": [
    "def count_starts(seq: str) -> int:\n",
    "    counter: int = 0\n",
    "    seq_len: int = len(seq)\n",
    "    index: int = 0\n",
    "\n",
    "    while index < seq_len - 2:\n",
    "        seq_unit: str = seq[index:index+3]\n",
    "        if seq_unit == \"ATG\":\n",
    "            counter = counter + 1\n",
    "        index += 1\n",
    "    return counter\n"
   ]
  },
  {
   "cell_type": "code",
   "execution_count": 21,
   "metadata": {},
   "outputs": [
    {
     "name": "stdout",
     "output_type": "stream",
     "text": [
      "Best id is 9 with number of starts: 4\n"
     ]
    }
   ],
   "source": [
    "for index2, seq in enumerate(df[\"Seq\"]):\n",
    "    if count_starts(df[\"Seq\"][index2]) > most_count:\n",
    "        most_count = count_starts(df[\"Seq\"][index2])\n",
    "        best_id = df[\"Seq ID\"][index2]\n",
    "    index2 += 1\n",
    "\n",
    "print(\"Best id is \" + str(best_id) + \" with number of starts: \" + str(most_count))"
   ]
  },
  {
   "cell_type": "code",
   "execution_count": 22,
   "metadata": {},
   "outputs": [
    {
     "name": "stdout",
     "output_type": "stream",
     "text": [
      "     Seq ID                                                Seq\n",
      "0         1  GATTTCAAAAGCATTCTGTTGTTCTTTGAGGTCAGCAACCTGACCA...\n",
      "1         2  TACGCTTGACAAGACGTCTCCATGTCCTTTCAAGCGACTTGCTACG...\n",
      "2         3  AAAATTGGATGCATAAAACAAAATAAATGTAAATACTAAAATAATG...\n",
      "3         4      AAAAAATAAAGTGTTTTAAAATAAAATCATTTAATTATTTTCACC\n",
      "4         5  CAAAGCCATAGCAAAAATTGCATTCTCGAACAACCAAATAAAATCG...\n",
      "..      ...                                                ...\n",
      "195     196           TAATTAAGCATGTATATACATGAACTTACGATGGGAAGTT\n",
      "196     197                   ATTGAAATATCTATAACAGAATCTGAGGTTCA\n",
      "197     198  TGGCATGTATGCCTGCACATTATTTTTACTTGGGACCCTATGGTAT...\n",
      "198     199  AAAAAAAAAAAAAATCTTATTGATCTGACGATTTCTTGTTTTTAGG...\n",
      "199     200  GAAACAGTCTAGGTACACACTTTGACTCTCTTTTATGATCATGATC...\n",
      "\n",
      "[200 rows x 2 columns]\n"
     ]
    }
   ],
   "source": [
    "df2 = pd.read_table(\"seqs.txt\", \n",
    "                   sep='\\s+', \n",
    "                  names = [\"ID\", \"Seq\"])\n",
    "\n",
    "df2[\"Seq ID\"]: int = df2['ID'].str.split('_').apply(lambda x: int(x[1]))\n",
    "#split the original ID based on where \"_\" is. \n",
    "#Then from the second element, extract only the number and put in a new column. \n",
    "\n",
    "del df2[\"ID\"]\n",
    "\n",
    "df2 = df2[['Seq ID', 'Seq']]\n",
    "#reordering the columns\n",
    "\n",
    "print(df2)"
   ]
  },
  {
   "cell_type": "code",
   "execution_count": 14,
   "metadata": {},
   "outputs": [
    {
     "name": "stdout",
     "output_type": "stream",
     "text": [
      "Best id is 9 with number of starts: 4\n"
     ]
    }
   ],
   "source": [
    "#Why is the logic here wrong? Where is it cutting off? Look at the next code chunk for correct answer.\n",
    "most_count: int = -1\n",
    "best_id: int = 0\n",
    "index3: int = 0\n",
    "\n",
    "while index3 < len(df2[\"Seq\"][index3]):\n",
    "    if count_starts(df2[\"Seq\"][index3]) > most_count:\n",
    "        most_count = count_starts(df2[\"Seq\"][index3])\n",
    "        best_id = df2[\"Seq ID\"][index3]\n",
    "    index3 += 1\n",
    "\n",
    "print(\"Best id is \" + str(best_id) + \" with number of starts: \" + str(most_count))"
   ]
  },
  {
   "cell_type": "code",
   "execution_count": 23,
   "metadata": {},
   "outputs": [
    {
     "name": "stdout",
     "output_type": "stream",
     "text": [
      "Best id is 124 with number of starts: 6\n"
     ]
    }
   ],
   "source": [
    "for index3, seq in enumerate(df2[\"Seq\"]):\n",
    "    if count_starts(df2[\"Seq\"][index3]) > most_count:\n",
    "        most_count = count_starts(df2[\"Seq\"][index3])\n",
    "        best_id = df2[\"Seq ID\"][index3]\n",
    "    index3 += 1\n",
    "\n",
    "print(\"Best id is \" + str(best_id) + \" with number of starts: \" + str(most_count))"
   ]
  }
 ],
 "metadata": {
  "kernelspec": {
   "display_name": "Python 3",
   "language": "python",
   "name": "python3"
  },
  "language_info": {
   "codemirror_mode": {
    "name": "ipython",
    "version": 3
   },
   "file_extension": ".py",
   "mimetype": "text/x-python",
   "name": "python",
   "nbconvert_exporter": "python",
   "pygments_lexer": "ipython3",
   "version": "3.8.5"
  }
 },
 "nbformat": 4,
 "nbformat_minor": 4
}
