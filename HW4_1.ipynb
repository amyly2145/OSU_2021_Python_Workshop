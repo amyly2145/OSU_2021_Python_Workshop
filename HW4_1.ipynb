{
 "cells": [
  {
   "cell_type": "code",
   "execution_count": 1,
   "metadata": {},
   "outputs": [
    {
     "name": "stdout",
     "output_type": "stream",
     "text": [
      "It works!\n"
     ]
    }
   ],
   "source": [
    "def count_starts(seq: str) -> int:\n",
    "    counter: int = 0\n",
    "    seq_len: int = len(seq)\n",
    "    index: int = 0\n",
    "\n",
    "    while index < seq_len - 2:\n",
    "        seq_unit: str = seq[index:index+3]\n",
    "        if seq_unit == \"ATG\":\n",
    "            counter = counter + 1\n",
    "        index += 1\n",
    "    return counter\n",
    "\n",
    "seq1_count = count_starts(\"ATATGCGATGGACGATGC\")\n",
    "\n",
    "seq2_count = count_starts(\"ATG\")\n",
    "\n",
    "seq3_count = count_starts(\"ATGCATG\")\n",
    "\n",
    "assert count_starts(\"ATATGCGATGGACGATGC\") == 3, \"Error on test 1!\"\n",
    "assert count_starts(\"ATG\") == 1, \"Error on test 2!\"\n",
    "assert count_starts(\"ATGCATG\") == 2, \"Error on test 3!\"\n",
    "\n",
    "print(\"It works!\")\n"
   ]
  }
 ],
 "metadata": {
  "kernelspec": {
   "display_name": "Python 3",
   "language": "python",
   "name": "python3"
  },
  "language_info": {
   "codemirror_mode": {
    "name": "ipython",
    "version": 3
   },
   "file_extension": ".py",
   "mimetype": "text/x-python",
   "name": "python",
   "nbconvert_exporter": "python",
   "pygments_lexer": "ipython3",
   "version": "3.8.5"
  }
 },
 "nbformat": 4,
 "nbformat_minor": 4
}
